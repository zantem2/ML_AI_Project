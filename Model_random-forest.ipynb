{
 "cells": [
  {
   "cell_type": "code",
   "execution_count": 1,
   "id": "31fe7685-ad60-43b2-8552-2cb0d004c27a",
   "metadata": {},
   "outputs": [
    {
     "ename": "ModuleNotFoundError",
     "evalue": "No module named 'timw'",
     "output_type": "error",
     "traceback": [
      "\u001b[1;31m---------------------------------------------------------------------------\u001b[0m",
      "\u001b[1;31mModuleNotFoundError\u001b[0m                       Traceback (most recent call last)",
      "Cell \u001b[1;32mIn[1], line 9\u001b[0m\n\u001b[0;32m      7\u001b[0m \u001b[38;5;28;01mfrom\u001b[39;00m \u001b[38;5;21;01msklearn\u001b[39;00m\u001b[38;5;21;01m.\u001b[39;00m\u001b[38;5;21;01mmetrics\u001b[39;00m \u001b[38;5;28;01mimport\u001b[39;00m confusion_matrix,classification_report,precision_score, recall_score, f1_score, accuracy_score\n\u001b[0;32m      8\u001b[0m \u001b[38;5;28;01mfrom\u001b[39;00m \u001b[38;5;21;01mbayes_opt\u001b[39;00m \u001b[38;5;28;01mimport\u001b[39;00m BayesianOptimization\n\u001b[1;32m----> 9\u001b[0m \u001b[38;5;28;01mimport\u001b[39;00m \u001b[38;5;21;01mtimw\u001b[39;00m\n",
      "\u001b[1;31mModuleNotFoundError\u001b[0m: No module named 'timw'"
     ]
    }
   ],
   "source": [
    "\n",
    "import numpy as np\n",
    "import pandas as pd\n",
    "from sklearn.model_selection import train_test_split,cross_val_score,StratifiedKFold\n",
    "import matplotlib.pyplot as plt\n",
    "from sklearn.tree import plot_tree\n",
    "from sklearn.ensemble import RandomForestClassifier\n",
    "from sklearn.metrics import confusion_matrix,classification_report,precision_score, recall_score, f1_score, accuracy_score\n",
    "from bayes_opt import BayesianOptimization\n",
    "import time"
   ]
  },
  {
   "cell_type": "code",
   "execution_count": null,
   "id": "0a781042-e79c-4d0a-a7a5-5f90c1a3481b",
   "metadata": {},
   "outputs": [],
   "source": [
    "\"\"\"\n",
    "This method takes a decision tree and the datasource, then displays the corresponding Random Forest\n",
    "\"\"\"\n",
    "def tree_plot(tree,data_source):\n",
    "    plt.figure(figsize=(20, 20))\n",
    "    tree_est=tree.estimators_[0]\n",
    "    plot_tree(tree_est, \n",
    "              feature_names=data_source.columns,  \n",
    "              filled=True,              \n",
    "              rounded=True)             \n",
    "    \n",
    "    plt.title(\"Random Forest\")\n",
    "    plt.show()"
   ]
  },
  {
   "cell_type": "code",
   "execution_count": null,
   "id": "650a02ad-aae4-4735-84b6-ee87d885716b",
   "metadata": {},
   "outputs": [],
   "source": [
    "#read in the source CSV files\n",
    "X = pd.read_csv('SPY_Daily.csv')\n",
    "y = pd.read_csv('Actions.csv')"
   ]
  },
  {
   "cell_type": "markdown",
   "id": "952d1756-df77-4718-a1df-e1acfbcbc0fd",
   "metadata": {},
   "source": [
    "View the head of the source data"
   ]
  },
  {
   "cell_type": "code",
   "execution_count": null,
   "id": "e5492113-701c-42bd-9772-c17a36e0aa10",
   "metadata": {},
   "outputs": [],
   "source": [
    "X.head()"
   ]
  },
  {
   "cell_type": "markdown",
   "id": "d8d82a1e-bab0-4a6a-b301-4695be6b59e6",
   "metadata": {},
   "source": [
    "Drop date time as daily seperation.\n",
    "Drop change and Close as we are predicting the strategy and we will not know the close."
   ]
  },
  {
   "cell_type": "code",
   "execution_count": null,
   "id": "e79eb9f1-b43b-4d89-a816-f395a369f894",
   "metadata": {},
   "outputs": [],
   "source": [
    "X=X.drop(['Date Time','Change','Close'],axis=1)\n",
    "y = y['Act']\n",
    "y.value_counts(normalize=True)"
   ]
  },
  {
   "cell_type": "code",
   "execution_count": null,
   "id": "8aa50243-c83d-4650-a40e-432f899b3207",
   "metadata": {},
   "outputs": [],
   "source": [
    "X_train, X_test, y_train, y_test = train_test_split(X, y, test_size=0.25)"
   ]
  },
  {
   "cell_type": "code",
   "execution_count": null,
   "id": "65891577-2979-4657-8ed6-39709e5a24e4",
   "metadata": {},
   "outputs": [],
   "source": [
    "X_train.columns"
   ]
  },
  {
   "cell_type": "code",
   "execution_count": null,
   "id": "8748b74e-3062-4a58-bae2-beab23ac48a5",
   "metadata": {},
   "outputs": [],
   "source": [
    "rf = RandomForestClassifier()\n",
    "rf.fit(X_train, y_train)"
   ]
  },
  {
   "cell_type": "code",
   "execution_count": null,
   "id": "bf77d21c-5b1d-44e4-8e3b-b6f8bd97b6dc",
   "metadata": {},
   "outputs": [],
   "source": [
    "rf.score(X_train, y_train)"
   ]
  },
  {
   "cell_type": "code",
   "execution_count": null,
   "id": "6d17c374-b7fd-46e9-adf9-13baade6784a",
   "metadata": {},
   "outputs": [],
   "source": [
    "#View the classification report\n",
    "print(classification_report(y_test, rf.predict(X_test)))"
   ]
  },
  {
   "cell_type": "code",
   "execution_count": null,
   "id": "cb33e450-83d7-435f-98e4-afabf5ab0389",
   "metadata": {},
   "outputs": [],
   "source": [
    "tree_plot(rf,X_test)"
   ]
  },
  {
   "cell_type": "markdown",
   "id": "e3ce8ea8-68aa-4025-a927-b887c790aa40",
   "metadata": {},
   "source": [
    "The model is to be improved using Bayesian Optimisation. A useful resource was here [https://www.kaggle.com/code/neerajmohan/randomforest-model-with-bayesian-optimization] below is an implementation from here, expanding for all hyper parameters.\n",
    "The hyper parameters that will be tweaked are:-\n",
    "n_estimators\n",
    "Max_features\n",
    "max_depth\n",
    "max_sample\n",
    "*criterion -- categorical input see below\n",
    "\n",
    "This has been expanded to make use of categorical mapping components within BO. Typically by design this is not used, but by defining it as a map of values and using a category integeter rounding. For random forest we have trebled the number of possible combinations and included different key metrics in an automated fashion. Else we would end up doing BO for one category e.g. 'gini' and discounting the others."
   ]
  },
  {
   "cell_type": "code",
   "execution_count": null,
   "id": "2daeaca6-03f7-4f1a-851c-680d75ed67b3",
   "metadata": {},
   "outputs": [],
   "source": [
    "\n",
    "# Define categorical mapping\n",
    "criterion_mapping = {0: 'gini', 1: 'entropy', 2: 'log_loss'}\n",
    "\n",
    "def stratified_kfold_score(clf,X,y,n_fold):\n",
    "    X,y = X.values,y.values\n",
    "    strat_kfold = StratifiedKFold(n_splits=n_fold, shuffle=True, random_state=1)\n",
    "    accuracy_list = []\n",
    "\n",
    "    for train_index, test_index in strat_kfold.split(X, y):\n",
    "        x_train_fold, x_test_fold = X[train_index], X[test_index]\n",
    "        y_train_fold, y_test_fold = y[train_index], y[test_index]\n",
    "        clf.fit(x_train_fold, y_train_fold)\n",
    "        preds = clf.predict(x_test_fold)\n",
    "        accuracy_test = accuracy_score(preds,y_test_fold)\n",
    "        accuracy_list.append(accuracy_test)\n",
    "\n",
    "    return np.array(accuracy_list).mean()\n",
    "\n",
    "def bo_params_rf(max_samples,n_estimators,max_features,max_depth,criterion):\n",
    "    \n",
    "    params = {\n",
    "        'max_samples': max_samples,\n",
    "        'max_depth': max_depth,\n",
    "        'max_features':max_features,\n",
    "        'n_estimators':int(n_estimators),\n",
    "        'criterion': criterion\n",
    "    }\n",
    "    clf = RandomForestClassifier(criterion = criterion_mapping[int(round(criterion))],\n",
    "                                 max_samples=params['max_samples'],\n",
    "                                 max_depth=int(params['max_depth']),\n",
    "                                 max_features=params['max_features'],\n",
    "                                 n_estimators=params['n_estimators'])\n",
    "    score = stratified_kfold_score(clf,X_train, y_train,5)\n",
    "    return score\n",
    "\n",
    "rf_bo = BayesianOptimization(bo_params_rf, {\n",
    "                                            'criterion': (0,2),          #using mapping as BO does not work with categorical values\n",
    "                                              'max_samples':(0.5,1),\n",
    "                                                'max_features':(0.5,1),\n",
    "                                              'n_estimators':(100,200),\n",
    "                                                'max_depth':(10,50)\n",
    "                                             })"
   ]
  },
  {
   "cell_type": "code",
   "execution_count": null,
   "id": "65334fab-f436-4417-a0fe-1c6194ce02ed",
   "metadata": {},
   "outputs": [],
   "source": [
    "#This records the time to do the optimisation\n",
    "\n",
    "start_time =time.time()\n",
    "results = rf_bo.maximize(n_iter=600, init_points=60) #Was 200,20 but with 3X the number of inputs this was trebled.\n",
    "end_time = time.time()\n",
    "total_time = (end_time - start_time) / 60\n"
   ]
  },
  {
   "cell_type": "code",
   "execution_count": null,
   "id": "622d2cc9-9efd-4d1d-9b30-06f09789be6e",
   "metadata": {},
   "outputs": [],
   "source": [
    "print(\"Execution time took \",total_time, \" mins\")"
   ]
  },
  {
   "cell_type": "code",
   "execution_count": null,
   "id": "b0ae614d-1124-4a26-b2c1-1ca3cbcc6217",
   "metadata": {},
   "outputs": [],
   "source": [
    "params = rf_bo.max['params']\n",
    "params['n_estimators']= int(params['n_estimators'])\n",
    "params['criterion'] = criterion_mapping[int(round(params['criterion']))]\n",
    "params['max_depth']=int(params['max_depth'])\n",
    "print(params)"
   ]
  },
  {
   "cell_type": "markdown",
   "id": "5d5ebc80-e518-4d4d-906f-1de2e09f476b",
   "metadata": {},
   "source": [
    "We now have the ideal values to use in our Random Forest. The next step is to create an ideal forest and report\n",
    "ams)\r\n",
    "{'criterion': 'log_loss', 'max_depth': 35, 'max_features': 0.6161733644459485, 'max_samples': 0.940087494327472, 'n_estimators': 106}"
   ]
  },
  {
   "cell_type": "code",
   "execution_count": null,
   "id": "f1ab35cd-8a29-4f1b-a003-231212cb10e4",
   "metadata": {},
   "outputs": [],
   "source": [
    "#setup and train the random forest with ideal values\n",
    "rf_ideal= RandomForestClassifier(criterion = params['criterion'],\n",
    "                                 max_samples=params['max_samples'],\n",
    "                                 max_depth=int(params['max_depth']),\n",
    "                                 max_features=params['max_features'],\n",
    "                                 n_estimators=params['n_estimators'])\n",
    "rf_ideal.fit(X_train,y_train)"
   ]
  },
  {
   "cell_type": "code",
   "execution_count": null,
   "id": "8c38b645-a8ba-4434-a23c-c535347ab953",
   "metadata": {},
   "outputs": [],
   "source": [
    "print(classification_report(y_test, rf_ideal.predict(X_test)))"
   ]
  },
  {
   "cell_type": "markdown",
   "id": "750a7798-0af7-4092-8224-74b5145af7b7",
   "metadata": {},
   "source": [
    "From a previous run using the defaults\n",
    "              precision    recall  f1-score   support\r\n",
    "\r\n",
    "         BUY       0.99      0.96      0.97        99\r\n",
    "        SELL       0.90      0.97      0.94        37\r\n",
    "\r\n",
    "    accuracy                           0.96       136\r\n",
    "   macro avg       0.94      0.97      0.95       136\r\n",
    "weighted avg       0.97      0.96      0.96     deleted\r\n"
   ]
  },
  {
   "cell_type": "code",
   "execution_count": null,
   "id": "48190cf4-950a-4049-ae2c-ffa0b40ef446",
   "metadata": {},
   "outputs": [],
   "source": [
    "tree_plot(rf_ideal,X_test)"
   ]
  },
  {
   "cell_type": "markdown",
   "id": "93727e04-0bd8-476f-9909-249ddb1e1f50",
   "metadata": {},
   "source": [
    "This final tree is much simplified compared to the original with defaults. Since there are less comparitors the result will be faster execution."
   ]
  },
  {
   "cell_type": "code",
   "execution_count": null,
   "id": "ef700e3c-42b3-42d8-8412-f409a13bb316",
   "metadata": {},
   "outputs": [],
   "source": []
  },
  {
   "cell_type": "code",
   "execution_count": null,
   "id": "8daa7a0d-b964-40ed-98bd-590b924d52eb",
   "metadata": {},
   "outputs": [],
   "source": []
  },
  {
   "cell_type": "code",
   "execution_count": null,
   "id": "d8b8a6cc-8ed4-4cd8-b3bf-c34c58b38af4",
   "metadata": {},
   "outputs": [],
   "source": []
  }
 ],
 "metadata": {
  "kernelspec": {
   "display_name": "Python 3 (ipykernel)",
   "language": "python",
   "name": "python3"
  },
  "language_info": {
   "codemirror_mode": {
    "name": "ipython",
    "version": 3
   },
   "file_extension": ".py",
   "mimetype": "text/x-python",
   "name": "python",
   "nbconvert_exporter": "python",
   "pygments_lexer": "ipython3",
   "version": "3.12.4"
  }
 },
 "nbformat": 4,
 "nbformat_minor": 5
}
